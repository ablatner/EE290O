{
 "cells": [
  {
   "cell_type": "markdown",
   "metadata": {},
   "source": [
    "# Homework 1\n",
    "\n",
    "### Due Date: Thursday, September 13, 2018\n",
    "\n",
    "### Getting Started\n",
    "\n",
    "If you haven't installed Flow onto your computer at this point, it's highly recommended that you go to https://berkeleyflow.readthedocs.io/en/latest/flow_setup.html and follow the instructions to do so.\n",
    "A few key points:\n",
    "- This course is done in Python 3 and code in Python 2 will not be supported. Please upgrade if you haven't.\n",
    "- It is highly recommended that you perform the installation in a virtual environment such an Anaconda."
   ]
  },
  {
   "cell_type": "markdown",
   "metadata": {},
   "source": [
    "# Question 1: Markov Decision Processes\n",
    "\n",
    "Markov decision problems (MDPs) are an important prelude to all reinforcement learning applications, as they define the task space of the application in question. These MDPs consist of a tuple ($\\mathcal{S}$, $\\mathcal{A}$, $\\mathcal{P}$, $r$), where:\n",
    "\n",
    "- $\\mathcal{S} \\in \\mathbb{R}^n$ is an $n$ dimensional state space\n",
    "- $\\mathcal{A} \\in \\mathbb{R}^m$ is an $m$ dimensional action space\n",
    "- $\\mathcal{P} : \\mathcal{S} \\times \\mathcal{A} \\times \\mathcal{S} \\to \\mathbb{R}_+$ is a transition probability function\n",
    "- $r : \\mathcal{S} \\to \\mathbb{R}$ is a reward function\n",
    "\n",
    "Note that MDPs are often characterized with other properties as well (e.g. a time horizon $T$), but for this problem we will consider the above representation.\n",
    "\n",
    "### a. Fully autonomous intersections\n",
    "\n",
    "Consider the fully autonomous intersection problem in the figure below, where vehicles are attempting to cross an intersection from either sides. In this problem, all vehicles in the network are fully autonomous and are equipped with sensors that can provide an arbitrary amount of state information. The objective is to develop a control strategy whereby all vehicles may pass the intersection as quickly as possible without colliding into one another.\n",
    "\n",
    "<img src=\"img/two_way_intersection.png\" width=\"400\">\n",
    "\n",
    "Given the above description, design an MDP that can be used to represent the above system.\n",
    "\n",
    "### b. \"Markov\" decision process?\n",
    "\n",
    "Is the MDP you designed in section a) truly Markovian? Why or why not?\n",
    "\n",
    "### c. Mixed autonomy intersections\n",
    "\n",
    "Let as now consider an modification to the problem presented in section a) where only a subset of the vehicles are autonomous, while the rest are driven by humans and do not communicate with the autonomous vehicles. How does the inclusion of human vehicles affect the MDP presented in section a)? Is this problem Markovian? If not, what can be changed to make it Markovian?"
   ]
  },
  {
   "cell_type": "markdown",
   "metadata": {},
   "source": [
    "# Question 2: Simulating and Stabilizing Traffic in a Ring Road\n",
    "\n",
    "In this problem, we will consider the problem of stabilizing traffic in a straight highway while using a ring road network as a surrogate. The formation of traffic instabilities (often referred to as traffic congestion, stop-and-go traffic, traffic waves, etc.) in ring roads is a widely studied problem, as it is analytically tractable and has been empirically shown to generate similar instabilities in field studies (see [this video](https://www.youtube.com/watch?v=7wm-pZp_mi0)) as those witnessed in real network settings such as highways (see [this video](https://www.youtube.com/watch?v=6ZC9h8jgSj4)). A thorough explanation of these instabilities is left until later in the course; instead here we are interested in reproducing them in simulation and we will build a few controllers to try to counteract these instabilities.\n",
    "\n",
    "We will simulate the performance of vehicles in a ring road using the microscopic traffic simulator SUMO. In order to setup a ring road network in SUMO and study the performance of different car-following models and controllers, we will use the computational framework Flow."
   ]
  },
  {
   "cell_type": "markdown",
   "metadata": {},
   "source": [
    "### a. Modeling microscopic car-following dynamics\n",
    "\n",
    "We begin by implementing a car-following model that can recreate the types of traffic instabilities experienced in reality. Several car-following models exist to realistically depict the longitudinal (acceleration) behavior of vehicles in a network. One such model is the Intelligent Driver Model (IDM), in which the acceleration $a_{IDM}$ of a vehicle is defined as:\n",
    "\n",
    "\\begin{equation}\n",
    "a_{IDM}(v, v_l, h) = a \\bigg[ 1 - \\bigg( \\frac{v}{v_0} \\bigg) ^\\delta - \\bigg( \\frac{s^* (v, v_l)}{h} \\bigg)^2 \\bigg]\n",
    "\\end{equation}\n",
    "\n",
    "where $v$ the vehicle's speed, $h$ is its bumper-to-bumper headway, $v_l$ is the speed of the vehicle ahead of it, and $s^*$ is the desired headway of the vehicle, denoted by:\n",
    "\n",
    "\\begin{equation}\n",
    "s^*(v, v_l)  = s_0 + \\max \\bigg( 0, v T + \\frac{v (v - v_l)}{2 \\sqrt{ab}}  \\bigg)\n",
    "\\end{equation}\n",
    "\n",
    "where $s_0$, $v_0$, $T$, $\\delta$, $a$, $b$ are given parameters that may be calibrated to model highway traffic.\n",
    "\n",
    "Using the *BaseController* class in Flow, design a controller that can recreate the behavior of this model in simulation. You can create this controller class by filling in the below script. Use the following values for each of the model parameters:\n",
    "\n",
    "- $s_0$: 2 m\n",
    "- $v_0$: 30 m/s\n",
    "- $T$: 1 s\n",
    "- $\\delta$: 4\n",
    "- $a$: 1 m/s$^2$\n",
    "- $b$: 1.5 m/s$^2$\n",
    "\n",
    "For more information of designing controllers in Flow, we recommend you review this [tutorial](https://github.com/berkeleyflow/flow/blob/master/tutorials/tutorial07_controllers.ipynb). **Note**: You are allowed to import any module you find valuable."
   ]
  },
  {
   "cell_type": "code",
   "execution_count": 1,
   "metadata": {},
   "outputs": [],
   "source": [
    "import numpy as np\n",
    "\n",
    "from flow.controllers import BaseController\n",
    "\n",
    "class IDM(BaseController):\n",
    "\n",
    "    def get_accel(self, env):\n",
    "        # bumper-to-bumper headway\n",
    "        h = env.vehicles.get_headway(self.veh_id)\n",
    "\n",
    "        # speed of the current vehicle\n",
    "        v = env.vehicles.get_speed(self.veh_id)\n",
    "\n",
    "        # speed of the lead vehicle\n",
    "        v_l = env.vehicles.get_speed(env.vehicles.get_leader(self.veh_id))\n",
    "\n",
    "        ######################################\n",
    "        ###### your implementation here ######\n",
    "        s0 = 2\n",
    "        v0 = 30\n",
    "        T = 1\n",
    "        delta = 4\n",
    "        a = 1\n",
    "        b = 1.5\n",
    "        s_star = s0 + max(0, v*T + v*(v-v_l)/(2*np.sqrt(a*b)))\n",
    "        acceleration = a*(1 - (v/v0)**delta - (s_star/h)**2)\n",
    "        ######################################\n",
    "        ######################################\n",
    "\n",
    "        # return the acceleration of the current vehicle\n",
    "        return acceleration"
   ]
  },
  {
   "cell_type": "markdown",
   "metadata": {},
   "source": [
    "### b. Preparing the simulation\n",
    "\n",
    "Next, we will run the simulation in SUMO using the *SumoExperiment* class in Flow. This class allows us to specify the type of scenario we would like to simulate as well as the longitudinal and lateral dynamics of vehicles in the simulation. Referring to the [tutorial in Flow on simulating traffic](https://github.com/berkeleyflow/flow/blob/master/tutorials/tutorial01_sumo.ipynb), fill in the below parameters in order to produce an experiment with a single lane ring road network of length 260 m with a total of 22 vehicles following the IDM model from part a), where the vehicles are initially perturbed from equal spacing by an additive random normal term with standard deviation 1.0 m."
   ]
  },
  {
   "cell_type": "code",
   "execution_count": null,
   "metadata": {},
   "outputs": [],
   "source": [
    "# some objects we will use to define the parameters of the simulation\n",
    "from flow.core.params import EnvParams, SumoParams, NetParams, InitialConfig\n",
    "from flow.core.vehicles import Vehicles\n",
    "\n",
    "# these are the scenario and generator classes for the ring road (they do not need to be modified)\n",
    "from flow.scenarios.loop.loop_scenario import LoopScenario\n",
    "from flow.scenarios.loop.gen import CircleGenerator\n",
    "\n",
    "# this is the environment we will be using during the simulation (it does not need to be modified)\n",
    "from flow.envs.test import TestEnv\n",
    "\n",
    "# the EnvParams object is left empty for the above environment (this does not need to be modified)\n",
    "env_params = EnvParams()\n",
    "\n",
    "######################################################\n",
    "############ modify everything below here ############\n",
    "######################################################\n",
    "\n",
    "# add 22 vehicles with the \"IDM\" acceleration controller from section a)\n",
    "vehicles = Vehicles()\n",
    "from flow.controllers.routing_controllers import ContinuousRouter\n",
    "vehicles.add(\"IDM\",\n",
    "             acceleration_controller=(IDM, {}),\n",
    "             routing_controller=(ContinuousRouter, {}),\n",
    "             num_vehicles=22)\n",
    "\n",
    "# modify the NetParams object to support a ring road of length 260 m\n",
    "from flow.scenarios.loop.loop_scenario import ADDITIONAL_NET_PARAMS\n",
    "ADDITIONAL_NET_PARAMS['length'] = 260\n",
    "net_params = NetParams(additional_params=ADDITIONAL_NET_PARAMS)  ### modify this class instantiation ###\n",
    "\n",
    "# start all vehicles with perturbation standard deviation of 1.0 m\n",
    "initial_config = InitialConfig(spacing=\"uniform\", perturbation=1)\n",
    "\n",
    "# run the simulation with a simulation step of 0.1s and activate the GUI for visualization purposes\n",
    "sumo_params = SumoParams(sim_step=0.1, sumo_binary=\"sumo-gui\")\n"
   ]
  },
  {
   "cell_type": "markdown",
   "metadata": {},
   "source": [
    "Once the above parameters are ready, we can start the simulation using the code snippet below to see how well the network performs when the vehicles are initially perturbed. If your model and network are designed correctly, then after some time the vehicles should begin bunching together and accelerating quickly when they are at the front of the backwards propagating queue. This is known as a \"stop-and-go wave\"."
   ]
  },
  {
   "cell_type": "code",
   "execution_count": 3,
   "metadata": {},
   "outputs": [
    {
     "name": "stdout",
     "output_type": "stream",
     "text": [
      "Could not connect to TraCI server at localhost:50998 [Errno 111] Connection refused\n",
      " Retrying in 1 seconds\n",
      "Could not connect to TraCI server at localhost:50998 [Errno 111] Connection refused\n",
      " Retrying in 2 seconds\n",
      "Could not connect to TraCI server at localhost:50998 [Errno 111] Connection refused\n",
      " Retrying in 3 seconds\n"
     ]
    },
    {
     "ename": "KeyboardInterrupt",
     "evalue": "",
     "output_type": "error",
     "traceback": [
      "\u001b[0;31m---------------------------------------------------------------------------\u001b[0m",
      "\u001b[0;31mConnectionRefusedError\u001b[0m                    Traceback (most recent call last)",
      "\u001b[0;32m~/sumo/tools/traci/__init__.py\u001b[0m in \u001b[0;36mconnect\u001b[0;34m(port, numRetries, host, proc)\u001b[0m\n\u001b[1;32m     53\u001b[0m         \u001b[0;32mtry\u001b[0m\u001b[0;34m:\u001b[0m\u001b[0;34m\u001b[0m\u001b[0m\n\u001b[0;32m---> 54\u001b[0;31m             \u001b[0;32mreturn\u001b[0m \u001b[0mConnection\u001b[0m\u001b[0;34m(\u001b[0m\u001b[0mhost\u001b[0m\u001b[0;34m,\u001b[0m \u001b[0mport\u001b[0m\u001b[0;34m,\u001b[0m \u001b[0mproc\u001b[0m\u001b[0;34m)\u001b[0m\u001b[0;34m\u001b[0m\u001b[0m\n\u001b[0m\u001b[1;32m     55\u001b[0m         \u001b[0;32mexcept\u001b[0m \u001b[0msocket\u001b[0m\u001b[0;34m.\u001b[0m\u001b[0merror\u001b[0m \u001b[0;32mas\u001b[0m \u001b[0me\u001b[0m\u001b[0;34m:\u001b[0m\u001b[0;34m\u001b[0m\u001b[0m\n",
      "\u001b[0;32m~/sumo/tools/traci/connection.py\u001b[0m in \u001b[0;36m__init__\u001b[0;34m(self, host, port, process)\u001b[0m\n\u001b[1;32m     51\u001b[0m             \u001b[0mself\u001b[0m\u001b[0;34m.\u001b[0m\u001b[0m_socket\u001b[0m\u001b[0;34m.\u001b[0m\u001b[0msetsockopt\u001b[0m\u001b[0;34m(\u001b[0m\u001b[0msocket\u001b[0m\u001b[0;34m.\u001b[0m\u001b[0mIPPROTO_TCP\u001b[0m\u001b[0;34m,\u001b[0m \u001b[0msocket\u001b[0m\u001b[0;34m.\u001b[0m\u001b[0mTCP_NODELAY\u001b[0m\u001b[0;34m,\u001b[0m \u001b[0;36m1\u001b[0m\u001b[0;34m)\u001b[0m\u001b[0;34m\u001b[0m\u001b[0m\n\u001b[0;32m---> 52\u001b[0;31m             \u001b[0mself\u001b[0m\u001b[0;34m.\u001b[0m\u001b[0m_socket\u001b[0m\u001b[0;34m.\u001b[0m\u001b[0mconnect\u001b[0m\u001b[0;34m(\u001b[0m\u001b[0;34m(\u001b[0m\u001b[0mhost\u001b[0m\u001b[0;34m,\u001b[0m \u001b[0mport\u001b[0m\u001b[0;34m)\u001b[0m\u001b[0;34m)\u001b[0m\u001b[0;34m\u001b[0m\u001b[0m\n\u001b[0m\u001b[1;32m     53\u001b[0m             \u001b[0mself\u001b[0m\u001b[0;34m.\u001b[0m\u001b[0m_process\u001b[0m \u001b[0;34m=\u001b[0m \u001b[0mprocess\u001b[0m\u001b[0;34m\u001b[0m\u001b[0m\n",
      "\u001b[0;31mConnectionRefusedError\u001b[0m: [Errno 111] Connection refused",
      "\nDuring handling of the above exception, another exception occurred:\n",
      "\u001b[0;31mKeyboardInterrupt\u001b[0m                         Traceback (most recent call last)",
      "\u001b[0;32m<ipython-input-3-10af09da8064>\u001b[0m in \u001b[0;36m<module>\u001b[0;34m()\u001b[0m\n\u001b[1;32m      7\u001b[0m                         initial_config=initial_config)\n\u001b[1;32m      8\u001b[0m \u001b[0;34m\u001b[0m\u001b[0m\n\u001b[0;32m----> 9\u001b[0;31m \u001b[0menv\u001b[0m \u001b[0;34m=\u001b[0m \u001b[0mTestEnv\u001b[0m\u001b[0;34m(\u001b[0m\u001b[0menv_params\u001b[0m\u001b[0;34m,\u001b[0m \u001b[0msumo_params\u001b[0m\u001b[0;34m,\u001b[0m \u001b[0mscenario\u001b[0m\u001b[0;34m)\u001b[0m\u001b[0;34m\u001b[0m\u001b[0m\n\u001b[0m\u001b[1;32m     10\u001b[0m \u001b[0;34m\u001b[0m\u001b[0m\n\u001b[1;32m     11\u001b[0m \u001b[0mexp\u001b[0m \u001b[0;34m=\u001b[0m \u001b[0mSumoExperiment\u001b[0m\u001b[0;34m(\u001b[0m\u001b[0menv\u001b[0m\u001b[0;34m,\u001b[0m \u001b[0mscenario\u001b[0m\u001b[0;34m)\u001b[0m\u001b[0;34m\u001b[0m\u001b[0m\n",
      "\u001b[0;32m~/flow/flow/envs/base_env.py\u001b[0m in \u001b[0;36m__init__\u001b[0;34m(self, env_params, sumo_params, scenario)\u001b[0m\n\u001b[1;32m    125\u001b[0m             \u001b[0mself\u001b[0m\u001b[0;34m.\u001b[0m\u001b[0menv_params\u001b[0m\u001b[0;34m.\u001b[0m\u001b[0mevaluate\u001b[0m \u001b[0;34m=\u001b[0m \u001b[0;32mFalse\u001b[0m\u001b[0;34m\u001b[0m\u001b[0m\n\u001b[1;32m    126\u001b[0m \u001b[0;34m\u001b[0m\u001b[0m\n\u001b[0;32m--> 127\u001b[0;31m         \u001b[0mself\u001b[0m\u001b[0;34m.\u001b[0m\u001b[0mstart_sumo\u001b[0m\u001b[0;34m(\u001b[0m\u001b[0;34m)\u001b[0m\u001b[0;34m\u001b[0m\u001b[0m\n\u001b[0m\u001b[1;32m    128\u001b[0m         \u001b[0mself\u001b[0m\u001b[0;34m.\u001b[0m\u001b[0msetup_initial_state\u001b[0m\u001b[0;34m(\u001b[0m\u001b[0;34m)\u001b[0m\u001b[0;34m\u001b[0m\u001b[0m\n\u001b[1;32m    129\u001b[0m \u001b[0;34m\u001b[0m\u001b[0m\n",
      "\u001b[0;32m~/flow/flow/envs/base_env.py\u001b[0m in \u001b[0;36mstart_sumo\u001b[0;34m(self)\u001b[0m\n\u001b[1;32m    244\u001b[0m                     \u001b[0mtime\u001b[0m\u001b[0;34m.\u001b[0m\u001b[0msleep\u001b[0m\u001b[0;34m(\u001b[0m\u001b[0mconfig\u001b[0m\u001b[0;34m.\u001b[0m\u001b[0mSUMO_SLEEP\u001b[0m\u001b[0;34m)\u001b[0m\u001b[0;34m\u001b[0m\u001b[0m\n\u001b[1;32m    245\u001b[0m \u001b[0;34m\u001b[0m\u001b[0m\n\u001b[0;32m--> 246\u001b[0;31m                 \u001b[0mself\u001b[0m\u001b[0;34m.\u001b[0m\u001b[0mtraci_connection\u001b[0m \u001b[0;34m=\u001b[0m \u001b[0mtraci\u001b[0m\u001b[0;34m.\u001b[0m\u001b[0mconnect\u001b[0m\u001b[0;34m(\u001b[0m\u001b[0mport\u001b[0m\u001b[0;34m,\u001b[0m \u001b[0mnumRetries\u001b[0m\u001b[0;34m=\u001b[0m\u001b[0;36m100\u001b[0m\u001b[0;34m)\u001b[0m\u001b[0;34m\u001b[0m\u001b[0m\n\u001b[0m\u001b[1;32m    247\u001b[0m \u001b[0;34m\u001b[0m\u001b[0m\n\u001b[1;32m    248\u001b[0m                 \u001b[0mself\u001b[0m\u001b[0;34m.\u001b[0m\u001b[0mtraci_connection\u001b[0m\u001b[0;34m.\u001b[0m\u001b[0msimulationStep\u001b[0m\u001b[0;34m(\u001b[0m\u001b[0;34m)\u001b[0m\u001b[0;34m\u001b[0m\u001b[0m\n",
      "\u001b[0;32m~/sumo/tools/traci/__init__.py\u001b[0m in \u001b[0;36mconnect\u001b[0;34m(port, numRetries, host, proc)\u001b[0m\n\u001b[1;32m     58\u001b[0m             \u001b[0;32mif\u001b[0m \u001b[0mwait\u001b[0m \u001b[0;34m<\u001b[0m \u001b[0mnumRetries\u001b[0m \u001b[0;34m+\u001b[0m \u001b[0;36m1\u001b[0m\u001b[0;34m:\u001b[0m\u001b[0;34m\u001b[0m\u001b[0m\n\u001b[1;32m     59\u001b[0m                 \u001b[0mprint\u001b[0m\u001b[0;34m(\u001b[0m\u001b[0;34m\" Retrying in %s seconds\"\u001b[0m \u001b[0;34m%\u001b[0m \u001b[0mwait\u001b[0m\u001b[0;34m)\u001b[0m\u001b[0;34m\u001b[0m\u001b[0m\n\u001b[0;32m---> 60\u001b[0;31m                 \u001b[0mtime\u001b[0m\u001b[0;34m.\u001b[0m\u001b[0msleep\u001b[0m\u001b[0;34m(\u001b[0m\u001b[0mwait\u001b[0m\u001b[0;34m)\u001b[0m\u001b[0;34m\u001b[0m\u001b[0m\n\u001b[0m\u001b[1;32m     61\u001b[0m     \u001b[0;32mraise\u001b[0m \u001b[0mFatalTraCIError\u001b[0m\u001b[0;34m(\u001b[0m\u001b[0mstr\u001b[0m\u001b[0;34m(\u001b[0m\u001b[0me\u001b[0m\u001b[0;34m)\u001b[0m\u001b[0;34m)\u001b[0m\u001b[0;34m\u001b[0m\u001b[0m\n\u001b[1;32m     62\u001b[0m \u001b[0;34m\u001b[0m\u001b[0m\n",
      "\u001b[0;31mKeyboardInterrupt\u001b[0m: "
     ]
    }
   ],
   "source": [
    "from flow.core.experiment import SumoExperiment\n",
    "\n",
    "scenario = LoopScenario(name=\"ring_road\",\n",
    "                        generator_class=CircleGenerator,\n",
    "                        vehicles=vehicles,\n",
    "                        net_params=net_params,\n",
    "                        initial_config=initial_config)\n",
    "\n",
    "env = TestEnv(env_params, sumo_params, scenario)\n",
    "\n",
    "exp = SumoExperiment(env, scenario)\n",
    "info_dict = exp.run(1, 3000)\n",
    "\n",
    "print(\"------------------\")\n",
    "print(\"Average speed in final time step: {} m/s\".format(info_dict[\"velocities\"][0][-1]))"
   ]
  },
  {
   "cell_type": "markdown",
   "metadata": {},
   "source": [
    "Fill in the variable **v_perturbed** below to get the the average speed of all vehicles in the network at the end of the simulation when the vehicles are perturbed. Then, rerun the above simulation when the initial perturbation is set to 0.0 m, and fill in **v_nonperturbed** with this value."
   ]
  },
  {
   "cell_type": "code",
   "execution_count": 6,
   "metadata": {},
   "outputs": [],
   "source": [
    "# average speed of all vehicles in the network at the end of the simulation when the vehicles are perturbed\n",
    "v_perturbed = 3.2756760014020117\n",
    "\n",
    "# average speed of all vehicles in the network at the end of the simulation when the vehicles are not perturbed\n",
    "v_nonperturbed = 4.815917477178446"
   ]
  },
  {
   "cell_type": "markdown",
   "metadata": {},
   "source": [
    "### c. Designing a stabilizing controller\n",
    "\n",
    "The perturbed a non-perturbed average speeds above given us a sense of how well the scenario can perform in the presence and absence of disturbances, respectively. Autonomous vehicles present a means of potentially alleviating the negative effects of the initial perturbation. Several approaches have been recommended to do so, some of which can roughly be reduced to:\n",
    "\n",
    "- Drive at a speed close to but below the optimal speed (v_nonperturbed).\n",
    "- Try to drive halfway between vehicle in front and behind.\n",
    "- Accelerate and decelerate slowly so as not to return to the location of the wave before it has partially been attenuated.\n",
    "\n",
    "Taking inspiration from these recommendations, or from your own understanding of the problem, design a controller in the code snippet below that can improve the performance of the network in terms of the final attained average velocity using only the speed of the ego vehicle and the speeds and bumper-to-bumper gaps with the lead and lag vehicles."
   ]
  },
  {
   "cell_type": "code",
   "execution_count": 26,
   "metadata": {},
   "outputs": [],
   "source": [
    "from flow.controllers import BaseController\n",
    "\n",
    "\n",
    "class StabilizingController(BaseController):\n",
    "\n",
    "    def get_accel(self, env):\n",
    "        # speed of the current vehicle\n",
    "        v = env.vehicles.get_speed(self.veh_id)\n",
    "\n",
    "        # bumper-to-bumper headway with the lead vehicle\n",
    "        h = env.vehicles.get_headway(self.veh_id)\n",
    "\n",
    "        # speed of the lead vehicle\n",
    "        v_l = env.vehicles.get_speed(env.vehicles.get_leader(self.veh_id))\n",
    "\n",
    "        # bumper-to-bumper headway with the lag vehicle\n",
    "        h_lag = env.vehicles.get_headway(env.vehicles.get_follower(self.veh_id))\n",
    "\n",
    "        # speed of the lag vehicle\n",
    "        v_lag = env.vehicles.get_speed(env.vehicles.get_follower(self.veh_id))\n",
    "\n",
    "        ######################################\n",
    "        ###### your implementation here ######\n",
    "        h0 = 5\n",
    "        v0 = 4.8\n",
    "        acceleration = (1 - (v/v0)**(1/2) + min(0, h - h0)**2 - 0*max(0, v-v_l)**(1/2))\n",
    "        ######################################\n",
    "        ######################################\n",
    "\n",
    "        # return the acceleration of the current vehicle\n",
    "        return acceleration"
   ]
  },
  {
   "cell_type": "markdown",
   "metadata": {},
   "source": [
    "Finally, run the below script to see how well your controller performs. You may use this simulation and the resulting plot to adjust the parameters of your hand-designed controller."
   ]
  },
  {
   "cell_type": "code",
   "execution_count": 27,
   "metadata": {
    "scrolled": false
   },
   "outputs": [
    {
     "name": "stdout",
     "output_type": "stream",
     "text": [
      "Round 0, return: 0\n",
      "Average, std return: 0.0, 0.0\n",
      "Average, std speed: 4.6737107731971745, 0.0\n"
     ]
    },
    {
     "data": {
      "image/png": "[encoded data removed]",
      "text/plain": [
       "<Figure size 864x576 with 1 Axes>"
      ]
     },
     "metadata": {},
     "output_type": "display_data"
    }
   ],
   "source": [
    "##########################################\n",
    "######## Simulating AV controller ########\n",
    "##########################################\n",
    "\n",
    "# length of one simulation, in time steps\n",
    "NUM_STEPS = 3000\n",
    "\n",
    "# we now have 21 vehicles using the IDM model and one using the above AV controller\n",
    "vehicles = Vehicles()\n",
    "vehicles.add(veh_id=\"human\", \n",
    "             acceleration_controller=(IDM, {}),\n",
    "             routing_controller=(ContinuousRouter, {}),\n",
    "             num_vehicles=21)\n",
    "vehicles.add(veh_id=\"AV\", \n",
    "             acceleration_controller=(StabilizingController, {}),\n",
    "             routing_controller=(ContinuousRouter, {}),\n",
    "             num_vehicles=1)\n",
    "\n",
    "# the scenario and environment remain the same\n",
    "scenario = LoopScenario(name=\"ring_road\",\n",
    "                        generator_class=CircleGenerator,\n",
    "                        vehicles=vehicles,\n",
    "                        net_params=net_params,\n",
    "                        initial_config=initial_config)\n",
    "\n",
    "env = TestEnv(env_params, sumo_params, scenario)\n",
    "\n",
    "from flow.core.experiment import SumoExperiment\n",
    "exp = SumoExperiment(env, scenario)\n",
    "info_dict = exp.run(1, NUM_STEPS)\n",
    "\n",
    "\n",
    "##########################################\n",
    "############ Plotting results ############\n",
    "##########################################\n",
    "\n",
    "import matplotlib.pyplot as plt\n",
    "\n",
    "plt.figure(figsize=(12,8))\n",
    "plt.title(\"Stabilizing Controller Performance\", fontsize=25)\n",
    "plt.xlabel(\"time step\", fontsize=20)\n",
    "plt.ylabel(\"average speed (m/s)\", fontsize=20)\n",
    "plt.plot(info_dict[\"velocities\"][0], c='k', label=\"average speed with one AV\")\n",
    "plt.plot([v_nonperturbed] * NUM_STEPS, '--', c='b', label=\"non-perturbed average speed\")\n",
    "plt.plot([v_perturbed] * NUM_STEPS, '--', c='r', label=\"perturbed average speed\")\n",
    "plt.legend(fontsize=20)\n",
    "plt.xticks(fontsize=15)\n",
    "plt.yticks(fontsize=15)\n",
    "plt.show()"
   ]
  },
  {
   "cell_type": "markdown",
   "metadata": {},
   "source": [
    "### d. Checking the generalizability of the controller\n",
    "\n",
    "Now that we have designed a control strategy that can at least somewhat dissipate the formation of waves in a 260 m ring road with 22 vehicles following a deterministic car-following model, let us consider a more difficult representation of the problem. In the below cell, we place the above controller on a denser 230 m ring road where the accelerations dictated to the individual vehicles by the Intelligent Driver Model are augmented by an additional exongenuous gaussian term $\\mathcal{N} \\sim (0, 0.2)$ to model the stochasticity of human driver behavior.\n",
    "\n",
    "Run the below cell (**note**: you do not have to modify your controller for this problem). Then, list 1-2 potential deficiencies of your controller. Some questions you may want to ask yourself include:\n",
    "- Is your controller generalizable enough to handle this new setting? \n",
    "- Is it transferable, for instance, to straight highways, and networks with multiple lanes were vehicles can move laterally as well?"
   ]
  },
  {
   "cell_type": "code",
   "execution_count": 28,
   "metadata": {},
   "outputs": [
    {
     "name": "stdout",
     "output_type": "stream",
     "text": [
      "Round 0, return: 0\n",
      "Average, std return: 0.0, 0.0\n",
      "Average, std speed: 2.6968690200285357, 0.0\n"
     ]
    },
    {
     "data": {
      "image/png": "[encoded data removed]",
      "text/plain": [
       "<Figure size 864x576 with 1 Axes>"
      ]
     },
     "metadata": {},
     "output_type": "display_data"
    }
   ],
   "source": [
    "#########################################################\n",
    "######## Simulating AV controller in new setting ########\n",
    "#########################################################\n",
    "\n",
    "# length of one simulation, in time steps\n",
    "NUM_STEPS = 3000\n",
    "\n",
    "# we now have 21 vehicles using the IDM model and one using the above AV controller\n",
    "vehicles = Vehicles()\n",
    "vehicles.add(veh_id=\"human\", \n",
    "             acceleration_controller=(IDM, {\"noise\": 0.2}),  # the \"noise\" term is used to add exogenous noise\n",
    "             routing_controller=(ContinuousRouter, {}),\n",
    "             num_vehicles=21)\n",
    "vehicles.add(veh_id=\"AV\", \n",
    "             acceleration_controller=(StabilizingController, {}),\n",
    "             routing_controller=(ContinuousRouter, {}),\n",
    "             num_vehicles=1)\n",
    "\n",
    "# we modify the length of the network from its net_params component\n",
    "net_params.additional_params[\"length\"] = 230\n",
    "\n",
    "# all other components of the scenario and environment remain the same\n",
    "new_scenario = LoopScenario(name=\"ring_road\",\n",
    "                            generator_class=CircleGenerator,\n",
    "                            vehicles=vehicles,\n",
    "                            net_params=net_params,\n",
    "                            initial_config=initial_config)\n",
    "\n",
    "env = TestEnv(env_params, sumo_params, new_scenario)\n",
    "\n",
    "exp = SumoExperiment(env, new_scenario)\n",
    "info_dict = exp.run(1, NUM_STEPS)\n",
    "\n",
    "\n",
    "##########################################\n",
    "############ Plotting results ############\n",
    "##########################################\n",
    "\n",
    "# v_perturbed and v_nonperturbed for this problem are different,\n",
    "# however, they can be calculated in the same way\n",
    "v_perturbed_new = 2.380637680521127\n",
    "v_nonperturbed_new = 3.4540661790240335\n",
    "\n",
    "import matplotlib.pyplot as plt\n",
    "\n",
    "plt.figure(figsize=(12,8))\n",
    "plt.title(\"Stabilizing Controller Performance\", fontsize=25)\n",
    "plt.xlabel(\"time step\", fontsize=20)\n",
    "plt.ylabel(\"average speed (m/s)\", fontsize=20)\n",
    "plt.plot(info_dict[\"velocities\"][0], c='k', label=\"average speed with one AV\")\n",
    "plt.plot([v_nonperturbed_new] * NUM_STEPS, '--', c='b', label=\"non-perturbed equilibrium\")\n",
    "plt.plot([v_perturbed_new] * NUM_STEPS, '--', c='r', label=\"perturbed equilibrium\")\n",
    "plt.legend(fontsize=20)\n",
    "plt.xticks(fontsize=15)\n",
    "plt.yticks(fontsize=15)\n",
    "plt.show()"
   ]
  },
  {
   "cell_type": "markdown",
   "metadata": {},
   "source": [
    "# Question 3: Value/Bellman Iteration\n",
    "Value iteration is a key idea that underlies a lot of reinforcement learning, in particular Q-Learning, which 20 years later is still an incredibly popular algorithm. To make sure that you have a good understanding of value iteration as a solution to the Bellman equation, this exercise takes you through three ways of solving the Bellman equations.\n",
    "\n",
    "Let's take an over-simplified traffic light example. Imagine you have a two-way intersection with traffic travelling only North-South or East-West (similar to question 1). Because traffic can only flow in one direction at a time, whenever the light is green in one direction a queue will begin to form in the other. To keep the number of states small, let us characterize the queues that form as either High (corresponding to large number of vehicles) or Low (corresponding to very few vehicles in the queue). The state space of this problem is then:\n",
    "\n",
    "\\begin{equation}\n",
    "\\mathcal{S}: \\{\\text{Low-Low, Low-High, High-Low, High-High}\\}\n",
    "\\end{equation}\n",
    "\n",
    "where the first element is associated with the North-South queue and the second with the East-West queue. \n",
    "\n",
    "Treating the controllable agents in the problem as the traffic lights at the intersection, the actions are simply to switch the state of the traffic light to be green on either the North-South ($\\updownarrow$) or East-West ($\\leftrightarrow$) directions:\n",
    "\n",
    "\\begin{equation}\n",
    "\\mathcal{A}: \\{ \\updownarrow, \\leftrightarrow \\}\n",
    "\\end{equation}\n",
    "\n",
    "In this situation, we want to minimize total queue formation; subsequently, we formulate our reward $R(s,a)$ as\n",
    "\n",
    "$$\n",
    "\\begin{array}{|c|c|c|}\n",
    "\\hline \n",
    " s                & a & R(s,a) \\\\\n",
    "\\hline\n",
    " \\text{Low-Low}   & \\updownarrow / \\leftrightarrow & 3 \\\\ \\hline\n",
    " \\text{High-Low}  & \\updownarrow / \\leftrightarrow & 2 \\\\ \\hline\n",
    " \\text{Low-High}  & \\updownarrow / \\leftrightarrow & 2 \\\\ \\hline\n",
    " \\text{High-High} & \\updownarrow / \\leftrightarrow & 1 \\\\ \\hline\n",
    "\\end{array}\n",
    "$$\n",
    "\n",
    "In order to model the dynamics of the intersection, we will use a simplistic stochastic transition function $P(s' | s, a)$. Note that the true transition function is probably a good deal more complicated.\n",
    "\n",
    "$$\n",
    "\\begin{array}{|c|c|c|c|}\n",
    "\\hline\n",
    "s' & s & a & P(s'|s,a)\\\\ \\hline\n",
    "\\text{Low-High}  & \\text{Low-Low}   & \\updownarrow & 0.5  \\\\ \\hline\n",
    "\\text{Low-Low}   & \\text{Low-Low}   & \\updownarrow & 0.5  \\\\ \\hline\n",
    "\\text{High-Low}  & \\text{Low-Low}   & \\leftrightarrow & 1.0  \\\\ \\hline\n",
    "\\text{High-High} & \\text{High-Low}  & \\updownarrow & 0.25 \\\\ \\hline\n",
    "\\text{Low-High}  & \\text{High-Low}  & \\updownarrow & 0.25 \\\\ \\hline\n",
    "\\text{Low-Low}   & \\text{High-Low}  & \\updownarrow & 0.5  \\\\ \\hline\n",
    "\\text{High-Low}  & \\text{High-Low}  & \\leftrightarrow & 1.0 \\\\ \\hline\n",
    "\\text{High-Low}  & \\text{Low-High}  & \\leftrightarrow & 1.0 \\\\ \\hline\n",
    "\\text{Low-High}  & \\text{Low-High}  & \\updownarrow & 1.0 \\\\ \\hline\n",
    "\\text{Low-High}  & \\text{High-High} & \\updownarrow & 1.0 \\\\ \\hline\n",
    "\\text{High-Low}  & \\text{High-High} & \\leftrightarrow & 1.0 \\\\ \\hline\n",
    "\\end{array}\n",
    "$$\n",
    "\n",
    "### a. Explicit solutions of the Bellman equations\n",
    "The analytic form of the solution to the Bellman equations is:\n",
    "\n",
    "$$V^*(s) = \\underset{a}{\\text{max}} \\ \\left[R(s,a) + \\gamma \\sum_{s'}P(s'|s,a)V^*(s')\\right]$$\n",
    "\n",
    "Because of the \"max\" argument on the outside, this problem is non-linear and very difficult to solve analytically. However, if instead we want to just solve for the value function with respect to a fixed policy, then the maximization term disappears and we can instead solve a linear set of equations.\n",
    "\n",
    "Consider the following policy $\\pi$:\n",
    "$$\n",
    "\\begin{array}{|c|c|}\n",
    "\\hline \n",
    " s & \\pi(s) \\\\\n",
    "\\hline\n",
    " \\text{Low-Low} & \\updownarrow \\\\ \\hline\n",
    " \\text{High-Low} & \\updownarrow \\\\ \\hline\n",
    " \\text{Low-High} & \\leftrightarrow \\\\ \\hline\n",
    " \\text{High-High} & \\updownarrow \\\\ \\hline\n",
    "\\end{array}\n",
    "$$\n",
    "\n",
    "Set up a set of linear equations that can be used to solve for the value function $V^\\pi$ for each of the four states."
   ]
  },
  {
   "cell_type": "code",
   "execution_count": 10,
   "metadata": {},
   "outputs": [
    {
     "name": "stdout",
     "output_type": "stream",
     "text": [
      "[5.37349398 4.24096386 4.12048193 3.06024096]\n"
     ]
    }
   ],
   "source": [
    "# part a.\n",
    "import numpy as np\n",
    "A = ['|', '-']\n",
    "S = [(0, 0), (1, 0), (0, 1), (1, 1)]\n",
    "R = np.tile(np.array([[3, 2, 2, 1]]).T, (1,2)).astype(float)\n",
    "P = np.zeros((len(S), len(S), len(A))).astype(float)\n",
    "P[2,0,0] = 0.5; P[0,0,0] = 0.5; P[1,0,1] = 1.0; P[3,1,0] = 0.25; P[2,1,0] = 0.25; P[0,1,0] = 0.5; P[1,1,1] = 1.0; P[1,2,1] = 1.0; P[2,2,0] = 1.0; P[2,3,0] = 1.0; P[1,3,1] = 1.0;\n",
    "pi0 = [0, 0, 1, 0]\n",
    "\n",
    "# V = R[:,pi0] + gamma*P[:,range(4),pi0].T*V\n",
    "# (np.eye(len(s)) - gamma*P[:,range(4),pi0].T)*V = R[:,pi0]\n",
    "gamma = 0.5\n",
    "A_ = np.eye(len(S)) - gamma*P[:,range(4),pi0].T\n",
    "b_ = R[range(4),pi0].T\n",
    "Vsolve = np.linalg.solve(A_, b_)\n",
    "print(Vsolve)"
   ]
  },
  {
   "cell_type": "markdown",
   "metadata": {},
   "source": [
    "\n",
    "### b. Value iteration\n",
    "Now, suppose we want to solve for the value function for the optimal policy. Denoting the initial value function as $V^0(s)$, initialize the value function as $V^0(s) = R(s)$, and perform one round of policy iteration to compute $V^1(s)$. Assume a discount value $\\gamma = 0.5$."
   ]
  },
  {
   "cell_type": "code",
   "execution_count": 11,
   "metadata": {},
   "outputs": [
    {
     "name": "stdout",
     "output_type": "stream",
     "text": [
      "V0 = [3. 2. 2. 1.]\n",
      "pi0 = [0, 0, 1, 0]\n",
      "\n",
      "\n",
      "[0.5 0.  0.5 0. ]\n",
      "[0. 1. 0. 0.]\n",
      "\n",
      "\n",
      "[0.5  0.   0.25 0.25]\n",
      "[0. 1. 0. 0.]\n",
      "\n",
      "\n",
      "[0. 0. 1. 0.]\n",
      "[0. 1. 0. 0.]\n",
      "\n",
      "\n",
      "[0. 0. 1. 0.]\n",
      "[0. 1. 0. 0.]\n",
      "V1 = [4.25     3.4375   3.71875  2.859375]\n",
      "pi1 = [0, 0, 1, 0]\n"
     ]
    }
   ],
   "source": [
    "V0 = np.max(R, 1)\n",
    "gamma = 0.5\n",
    "V = V0[:]\n",
    "pi = pi0[:]\n",
    "print(\"V0 =\",V)\n",
    "print(\"pi0 =\",pi)\n",
    "for s in range(len(S)):\n",
    "    print('\\n')\n",
    "    v = V[s]\n",
    "    print(P[:,s,0])\n",
    "    print(P[:,s,1])\n",
    "    allValues = [np.dot(P[:,s,a], (R[s,a] + gamma*V)) for a in range(len(A))]\n",
    "    pi[s] = np.argmax(allValues)\n",
    "    V[s] = allValues[pi[s]]\n",
    "print(\"V1 =\",V)\n",
    "print(\"pi1 =\",pi)"
   ]
  },
  {
   "cell_type": "markdown",
   "metadata": {},
   "source": [
    "### c. Computational solution\n",
    "Computing one round of policy iteration takes quite a while by hand. So now that you've built up some intuition for it, set up some code to perform further value of iterations. Run the code until one of these two conditions are reached:\n",
    "\n",
    "1. 150 sets of value iteration have occured.\n",
    "2. The smallest change in the value function of any state is less than .01. In more mathematical terms, the termination condition is: $ \\text{min }|V^t(s) - V^{t+1}(s)|<.01 \\ \\ \\  \\forall s\\in \\mathcal{S} $\n",
    "\n",
    "Note that the second condition should be reached well before the first. If you're hitting the first, there's probably something wrong with your code."
   ]
  },
  {
   "cell_type": "code",
   "execution_count": 12,
   "metadata": {},
   "outputs": [
    {
     "name": "stdout",
     "output_type": "stream",
     "text": [
      "[3. 2. 2. 1.]\n",
      "Break\n",
      "[5.3716782  4.24858504 4.12429252 3.12429252]\n",
      "[5.37349398 4.24096386 4.12048193 3.06024096]\n"
     ]
    }
   ],
   "source": [
    "#############################################\n",
    "####### add value iteration code here #######\n",
    "#############################################\n",
    "V = np.max(R,1)\n",
    "print(V)\n",
    "for i in range(150):\n",
    "    delta = 0\n",
    "    for s in range(len(S)):\n",
    "        v = V[s]\n",
    "#         print(P[:,s,0])\n",
    "#         print((R[s,0] + gamma*V))\n",
    "#         print(np.dot(P[:,s,0], (R[s,0] + gamma*V)), np.dot(P[:,s,1], (R[s,1] + gamma*V)))\n",
    "        V[s] = max([np.dot(P[:,s,a], (R[s,a] + gamma*V)) for a in range(len(A))])\n",
    "        delta = max(delta, abs(v-V[s]))\n",
    "#         print(delta)\n",
    "    if delta < 0.01:\n",
    "        print('Break')\n",
    "        break\n",
    "print(V)\n",
    "print(Vsolve)"
   ]
  },
  {
   "cell_type": "markdown",
   "metadata": {},
   "source": [
    "### d. Conceptual check\n",
    "\n",
    "Pretend for a second that the value functions you've computed above are the optimal value functions (which they would be if you ran them long enough to make the error essentially zero). Given the optimal value functions and the transition functions, how would you find the optimal policy for any given state?"
   ]
  },
  {
   "cell_type": "markdown",
   "metadata": {},
   "source": [
    "# Question 4: Why Stochastic Gradient Descent?\n",
    "\n",
    "In this problem we're going to explore the value of stochastic gradient descent and answer the following question: If you know the true gradient, what's the point of using stochastic gradient descent?\n",
    "\n",
    "Before we move on to trying out gradient descent and its variants to an interesting transportation problem, let's try a few examples to illustrate the power of gradient descent and the speed-boost we can pick up from stochastic gradient descent. \n",
    "\n",
    "We are trying to find a linear function that can be used to identify when a point is in one of two classes. The goal here is to find a weight vector $\\vec{w} \\in \\mathbb{R}^n$ that we can use to classify a sample $x_i$ as label -1 if $\\vec{w} \\cdot \\vec{x_i} > 0$ and label 1 if $\\vec{w} \\cdot \\vec{x_i} < 0$. Geometrically, a sample is in class 1 if it is on the same side of the hyper-plane as the weight vector. \n",
    "\n",
    "Let's start with a low-dimensional linear-classification example. First, let's generate some data. Because of the way we generate this data, we can guarantee that it can be separated by a hyper-plane. "
   ]
  },
  {
   "cell_type": "code",
   "execution_count": 154,
   "metadata": {},
   "outputs": [],
   "source": [
    "import numpy as np\n",
    "import matplotlib.pyplot as plt\n",
    "\n",
    "def generate_data(dim, batch_size=5000, visualize=False):\n",
    "    \"\"\"\n",
    "    Returns batch_size of vectors of length-dim, their associated labels, and the hyperplane used to generate them. \n",
    "    Labels are sampled from a random hyper-plane\n",
    "    \"\"\"\n",
    "    weights = np.random.rand(dim)\n",
    "    weights /= sum(weights)\n",
    "    data = np.random.rand(batch_size, dim) - 0.5\n",
    "    labels = np.zeros(batch_size)\n",
    "    labels[np.dot(data, weights) > 0] = -1\n",
    "    labels[np.dot(data, weights) < 0] = 1\n",
    "    if visualize:\n",
    "        fig = plt.scatter(data[:,0], data[:,1], c=labels, cmap='bwr')\n",
    "        plt.show()\n",
    "    return data, labels, weights"
   ]
  },
  {
   "cell_type": "code",
   "execution_count": 155,
   "metadata": {
    "scrolled": false
   },
   "outputs": [
    {
     "data": {
      "image/png": "[encoded data removed]",
      "text/plain": [
       "<Figure size 432x288 with 1 Axes>"
      ]
     },
     "metadata": {},
     "output_type": "display_data"
    },
    {
     "name": "stdout",
     "output_type": "stream",
     "text": [
      "The weights of the hyper-plane are: [0.60658852 0.39341148]\n"
     ]
    }
   ],
   "source": [
    "data, labels, true_weight = generate_data(dim=2, batch_size=200, visualize=True)\n",
    "print(\"The weights of the hyper-plane are:\", true_weight)"
   ]
  },
  {
   "cell_type": "markdown",
   "metadata": {},
   "source": [
    "Now, for the purposes of illustration, we've actually returned the true weight vector but in general you might get data sampled from some random distribution and want to classify it. So, let's pretend we don't know the weight vector and attempt to recover it via gradient descent. To do so, we need a metric that tells you whether the weight vector is classifying things correctly. \n",
    "There are a lot of popular choices for loss functions, but for the purpose of simplicity let's use the following classification scheme.\n",
    "\n",
    "Notice from the sample implementation that if a data-point $x_i$ has $\\vec{w}\\cdot x_i > 0$ then its label $l_i$ is -1 so define:\n",
    "\n",
    "$$z_i = \\vec{w}\\cdot x_i$$\n",
    "\n",
    "We have that $l_i z_i < 0$ for everything with label -1. The same is true for all the points with label 1! So, if we compute $z_i$ for a given point with our test weight vector and it's positive, then we've got a misclassified sample! Motivated by this, let's define the loss as \n",
    "\n",
    "\\begin{equation}\n",
    "L = \\frac{1}{N} \\sum_{i=0}^N L(z_i, l_i)\n",
    "\\end{equation}\n",
    "\n",
    "where:\n",
    "\n",
    "\\begin{equation}\n",
    "L(z_i, l_i) =\n",
    "\\begin{cases}\n",
    "0 & l_i z_i < 0 \\\\\n",
    "l_i z_i & l_i z_i > 0 \\\\\n",
    "\\end{cases}\n",
    "\\end{equation}\n",
    "\n",
    "Now if we sum up over these, if the sum isn't zero, there's still a mis-classified point."
   ]
  },
  {
   "cell_type": "code",
   "execution_count": 156,
   "metadata": {},
   "outputs": [
    {
     "data": {
      "text/plain": [
       "0.0038923602474718014"
      ]
     },
     "execution_count": 156,
     "metadata": {},
     "output_type": "execute_result"
    }
   ],
   "source": [
    "# an initial weight\n",
    "w0 = np.random.rand(2)\n",
    "\n",
    "def loss(weight, data, labels):\n",
    "    errors =  labels * np.dot(data, weight)\n",
    "    errors = errors[errors > 0]\n",
    "    return 1/data.shape[0] * np.sum(errors)\n",
    "\n",
    "# evaluate the loss to start\n",
    "loss(w0, data, labels)"
   ]
  },
  {
   "cell_type": "markdown",
   "metadata": {},
   "source": [
    "Now that we've shown how to set up a classification loss and generate the data, please solve the following problems:\n",
    "\n",
    "1. Generate a batch of 100000 data points of dimension two. For this data, compute the time to reduce the loss below .001 for batch sizes from 100 to a full batch in 10x increments. The full batch corresponds to normal gradient descent. Plot the batch-size vs. the time taken to convergence. Finally, in order to validate that your SGD operation is in fact converging to the right solution, print the normalized set of true hyper-plane parameters and the parameters you received in the 100 batch size case. **Warning**: do not recreate the data for each batch-size test as this can corrupt your results.\n",
    "2. Repeat the above problem but make the dimension of the data 50. \n",
    "\n",
    "**Hints**: \n",
    "- You can play around with the step-size, but a good starting point is often .01\n",
    "- Make sure to keep the step-size the same across batches, otherwise your comparison is invalid.\n",
    "\n",
    "Hopefully after this you can see why stochastic gradient descent is such a beloved technique, at least from the perspective of sample efficiency."
   ]
  },
  {
   "cell_type": "code",
   "execution_count": 166,
   "metadata": {},
   "outputs": [],
   "source": [
    "#################################\n",
    "####### add SGD code here #######\n",
    "#################################\n",
    "dim = 2\n",
    "N = 100000\n",
    "[data, labels, true_weights] = generate_data(dim, N)\n",
    "w0 = np.random.rand(2)\n",
    "batch_sizes = 10**np.array(range(2, int(np.log10(N)+1)))\n",
    "s = 0.01"
   ]
  },
  {
   "cell_type": "code",
   "execution_count": 167,
   "metadata": {},
   "outputs": [
    {
     "name": "stdout",
     "output_type": "stream",
     "text": [
      "Batch size: 10\n",
      "0\n",
      "10000\n",
      "Batch size: 100\n",
      "0\n",
      "10000\n",
      "Batch size: 1000\n",
      "0\n",
      "10000\n"
     ]
    }
   ],
   "source": [
    "iters = []\n",
    "for D in [10, 100,1000]:\n",
    "    print('Batch size: {}'.format(D))\n",
    "    w = w0[:]\n",
    "    L = float('inf')\n",
    "    iterMax = 5e4\n",
    "    losses = np.zeros(int(iterMax))\n",
    "    for i in range(int(iterMax)):\n",
    "        if D < N:\n",
    "            idx = np.random.choice(N, size=(D,1))\n",
    "            batch = data[idx,:]\n",
    "            batchLabels = labels[idx]\n",
    "            errors = batchLabels * np.dot(batch, w)\n",
    "            errIdx = errors > 0\n",
    "            errors = errors[errIdx]\n",
    "            gradL = batchLabels[errIdx,np.newaxis]*batch[errIdx,:]\n",
    "        else:\n",
    "            errors = labels * np.dot(data, w)\n",
    "            errIdx = errors > 0\n",
    "            errors = errors[errIdx]\n",
    "            gradL = labels[errIdx,np.newaxis]*data[errIdx,:]\n",
    "        w = w - s*1/D*np.dot(errors, gradL)\n",
    "        L = loss(w, data, labels)\n",
    "        losses[i] = L\n",
    "        if L < 0.001 and i > 100:\n",
    "            break\n",
    "        if i % 10000 == 0:\n",
    "            print(i)\n",
    "    iters.append((w/sum(w), i, L, losses[:i]))"
   ]
  },
  {
   "cell_type": "code",
   "execution_count": 168,
   "metadata": {},
   "outputs": [
    {
     "name": "stdout",
     "output_type": "stream",
     "text": [
      "[0.6329449 0.3670551] -1.7243866211039858\n",
      "[0.79044032 0.06850058] -11.53917702012747\n",
      "[0.71673479 0.28326521] -2.530260536621583 18477 0.0009998180040595222\n",
      "[0.71672643 0.28327357] -2.530156382644733 18725 0.0009999399602296406\n",
      "[0.71672661 0.28327339] -2.5301586396577718 18729 0.0009999964743781693\n"
     ]
    }
   ],
   "source": [
    "print(true_weights, -true_weights[0]/true_weights[1])\n",
    "print(w0, -w0[0]/w0[1])\n",
    "for (w,i,L,_) in iters:\n",
    "    print(w,-w[0]/w[1],i,L)"
   ]
  },
  {
   "cell_type": "code",
   "execution_count": 169,
   "metadata": {},
   "outputs": [
    {
     "data": {
      "image/png": "[encoded data removed]",
      "text/plain": [
       "<Figure size 432x288 with 1 Axes>"
      ]
     },
     "metadata": {},
     "output_type": "display_data"
    }
   ],
   "source": [
    "fig = plt.scatter(data[:,0], data[:,1], c=labels, cmap='bwr')\n",
    "for (w,_,_,_) in iters:\n",
    "    plt.plot([-0.5, 0.5], -w[0]/w[1]*np.array([-0.5, 0.5]))\n",
    "plt.axis('equal')\n",
    "plt.ylim([-0.5, 0.5])\n",
    "plt.show()"
   ]
  },
  {
   "cell_type": "code",
   "execution_count": null,
   "metadata": {},
   "outputs": [],
   "source": []
  }
 ],
 "metadata": {
  "kernelspec": {
   "display_name": "Python 3",
   "language": "python",
   "name": "python3"
  },
  "language_info": {
   "codemirror_mode": {
    "name": "ipython",
    "version": 3
   },
   "file_extension": ".py",
   "mimetype": "text/x-python",
   "name": "python",
   "nbconvert_exporter": "python",
   "pygments_lexer": "ipython3",
   "version": "3.5.6"
  },
  "widgets": {
   "state": {},
   "version": "1.1.2"
  }
 },
 "nbformat": 4,
 "nbformat_minor": 2
}
